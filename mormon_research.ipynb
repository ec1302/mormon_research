{
 "cells": [
  {
   "cell_type": "markdown",
   "metadata": {},
   "source": [
    "This notebook tests the web scraping code."
   ]
  },
  {
   "cell_type": "code",
   "execution_count": 1,
   "metadata": {},
   "outputs": [],
   "source": [
    "import requests\n",
    "from bs4 import BeautifulSoup\n",
    "import networkx as nx\n",
    "from gensim import corpora\n",
    "import nltk\n",
    "from nltk.corpus import stopwords\n",
    "from gensim.models.ldamodel import LdaModel\n",
    "import re\n",
    "from urllib.robotparser import RobotFileParser\n",
    "from urllib.parse import urljoin, urldefrag, urlparse\n",
    "from collections import deque\n",
    "import time"
   ]
  },
  {
   "cell_type": "code",
   "execution_count": 2,
   "metadata": {},
   "outputs": [],
   "source": [
    "\n",
    "# Ensure NLTK stopwords are downloaded\n",
    "# Uncomment the following line if you haven't downloaded stopwords yet\n",
    "# nltk.download('stopwords')\n",
    "\n",
    "# Define stopwords\n",
    "stop_words = set(stopwords.words('english'))"
   ]
  },
  {
   "cell_type": "code",
   "execution_count": 3,
   "metadata": {},
   "outputs": [],
   "source": [
    "# Helper function to clean text\n",
    "def clean_text(text):\n",
    "    # Replace multiple spaces with a single space\n",
    "    text = re.sub(r'\\s+', ' ', text)\n",
    "    # Remove punctuation\n",
    "    text = re.sub(r'[^\\w\\s]', ' ', text)\n",
    "    # Convert to lowercase and split into words\n",
    "    words = text.lower().split()\n",
    "    # Remove stopwords\n",
    "    words = [word for word in words if word not in stop_words]\n",
    "    # Join words back into a single string\n",
    "    cleaned_text = ' '.join(words)\n",
    "    return cleaned_text"
   ]
  },
  {
   "cell_type": "code",
   "execution_count": 4,
   "metadata": {},
   "outputs": [],
   "source": [
    "def crawl_website(base_url, max_pages=50):\n",
    "    visited = set()  # Keep track of visited pages\n",
    "    to_visit = deque([base_url])  # Efficient queue of pages to visit\n",
    "    to_visit_set = set([base_url])  # Set for quick lookup to avoid duplicates\n",
    "\n",
    "    scraped_content = []  # To store scraped content from the pages\n",
    "    graph = nx.DiGraph()  # Initialize the graph\n",
    "\n",
    "    # Initialize the robots.txt parser\n",
    "    robot_parser = RobotFileParser()\n",
    "    robot_parser.set_url(urljoin(base_url, '/robots.txt'))\n",
    "    try:\n",
    "        robot_parser.read()\n",
    "    except Exception as e:\n",
    "        print(f\"Error reading robots.txt: {e}\")\n",
    "        return scraped_content, graph\n",
    "\n",
    "    # Get the crawl-delay (if any)\n",
    "    crawl_delay = robot_parser.crawl_delay('*') or 0\n",
    "\n",
    "    session = requests.Session()  # Use a session for connection pooling\n",
    "\n",
    "    while to_visit and len(visited) < max_pages:\n",
    "        url = to_visit.popleft()\n",
    "        to_visit_set.remove(url)\n",
    "\n",
    "        # Remove URL fragments (like #section1) to avoid duplicate pages\n",
    "        url, _ = urldefrag(url)\n",
    "\n",
    "        if url in visited or not url.startswith(base_url):\n",
    "            continue\n",
    "\n",
    "        # Check if the URL is allowed to be crawled based on robots.txt\n",
    "        if not robot_parser.can_fetch('*', url):\n",
    "            print(f\"Skipping {url} due to robots.txt restrictions.\")\n",
    "            continue\n",
    "\n",
    "        try:\n",
    "            response = session.get(url, timeout=10)\n",
    "            if response.status_code != 200:\n",
    "                continue\n",
    "\n",
    "            # Set the correct encoding\n",
    "            response.encoding = response.apparent_encoding\n",
    "\n",
    "            # Mark this URL as visited\n",
    "            visited.add(url)\n",
    "\n",
    "            # Parse the HTML content\n",
    "            soup = BeautifulSoup(response.text, 'html.parser')\n",
    "\n",
    "            # Add this page as a node in the graph\n",
    "            graph.add_node(url)\n",
    "\n",
    "            # Debugging: Print the current URL\n",
    "            print(f\"Visiting: {url}\")\n",
    "\n",
    "            # Extract all links on the page\n",
    "            for link in soup.find_all('a', href=True):\n",
    "                raw_link = link['href']\n",
    "                # Skip empty and anchor-only links\n",
    "                if not raw_link or raw_link.startswith('#'):\n",
    "                    continue\n",
    "\n",
    "                # Create a full URL using urljoin\n",
    "                full_url = urljoin(url, raw_link)  # Use current url as base\n",
    "\n",
    "                # Remove URL fragments\n",
    "                full_url, _ = urldefrag(full_url)\n",
    "\n",
    "                # Normalize URL to avoid duplicates\n",
    "                parsed_full_url = urlparse(full_url)\n",
    "                normalized_full_url = parsed_full_url._replace(\n",
    "                    params='', query='', fragment=''\n",
    "                ).geturl()\n",
    "\n",
    "                # Ensure the URL starts with the base domain and is not already visited or queued\n",
    "                if (\n",
    "                    normalized_full_url.startswith(base_url)\n",
    "                    and normalized_full_url not in visited\n",
    "                    and normalized_full_url not in to_visit_set\n",
    "                ):\n",
    "                    to_visit.append(normalized_full_url)\n",
    "                    to_visit_set.add(normalized_full_url)\n",
    "                    graph.add_edge(url, normalized_full_url)  # Add directed edge\n",
    "\n",
    "            # Extract and clean text content\n",
    "            page_text = soup.get_text(separator=' ')\n",
    "            cleaned_text = clean_text(page_text)\n",
    "            scraped_content.append(cleaned_text)\n",
    "\n",
    "            # Respect crawl-delay\n",
    "            if crawl_delay > 0:\n",
    "                time.sleep(crawl_delay)\n",
    "\n",
    "        except requests.RequestException as e:\n",
    "            print(f\"Error accessing {url}: {e}\")\n",
    "            continue\n",
    "\n",
    "    return scraped_content, graph"
   ]
  },
  {
   "cell_type": "code",
   "execution_count": 5,
   "metadata": {},
   "outputs": [
    {
     "name": "stdout",
     "output_type": "stream",
     "text": [
      "Visiting: https://www.churchofjesuschrist.org/?lang=eng\n"
     ]
    }
   ],
   "source": [
    "scraped_content, graph = crawl_website(base_url= 'https://www.churchofjesuschrist.org/?lang=eng', max_pages=5)"
   ]
  },
  {
   "cell_type": "code",
   "execution_count": 6,
   "metadata": {},
   "outputs": [
    {
     "data": {
      "image/png": "[encoded data removed]",
      "text/plain": [
       "<Figure size 1200x800 with 1 Axes>"
      ]
     },
     "metadata": {},
     "output_type": "display_data"
    }
   ],
   "source": [
    "import networkx as nx\n",
    "import matplotlib.pyplot as plt\n",
    "\n",
    "# Assuming you have already run your crawler and have the 'graph' variable\n",
    "# scraped_content, graph = crawl_website(base_url, max_pages=5)\n",
    "\n",
    "def visualize_graph(graph):\n",
    "    plt.figure(figsize=(12, 8))\n",
    "    pos = nx.spring_layout(graph, k=0.5, iterations=50)\n",
    "\n",
    "    # Draw nodes\n",
    "    nx.draw_networkx_nodes(graph, pos, node_size=500, node_color='skyblue')\n",
    "\n",
    "    # Draw edges\n",
    "    nx.draw_networkx_edges(\n",
    "        graph, pos,\n",
    "        arrowstyle='->',\n",
    "        arrowsize=20,\n",
    "        edge_color='gray',\n",
    "        connectionstyle='arc3, rad=0.1'\n",
    "    )\n",
    "\n",
    "    # Draw node labels\n",
    "    nx.draw_networkx_labels(graph, pos, font_size=8, font_family='sans-serif')\n",
    "\n",
    "    # Set title and remove axes\n",
    "    plt.title(\"Crawled Website Link Structure\")\n",
    "    plt.axis('off')\n",
    "\n",
    "    # Display the graph\n",
    "    plt.show()\n",
    "\n",
    "# Call the visualization function\n",
    "visualize_graph(graph)\n"
   ]
  },
  {
   "cell_type": "code",
   "execution_count": 7,
   "metadata": {},
   "outputs": [
    {
     "name": "stdout",
     "output_type": "stream",
     "text": [
      "Content of the first page:\n",
      "homepage church jesus christ latter day saints draw closer jesus christ join us general conference october 5 6 learn believe learn church jesus christ latter day saints learn jesus christ get know follow find meaning life seek god perspective navigate life challenges discover strength direction peace welcome visit church near christ focused community best love serve others place find church near find common questions members church jesus christ latter day saints christian yes members church jesu\n",
      "Most common words:\n",
      "jesus: 23\n",
      "christ: 22\n",
      "church: 20\n",
      "us: 11\n",
      "god: 11\n",
      "latter: 10\n",
      "day: 10\n",
      "saints: 10\n",
      "learn: 9\n",
      "book: 8\n"
     ]
    }
   ],
   "source": [
    "# Print the content of the first page\n",
    "print(\"Content of the first page:\")\n",
    "print(scraped_content[0][:500])  # Print first 500 characters\n",
    "\n",
    "# Count word frequencies\n",
    "from collections import Counter\n",
    "\n",
    "all_words = ' '.join(scraped_content).split()\n",
    "word_counts = Counter(all_words)\n",
    "\n",
    "# Print the most common words\n",
    "print(\"Most common words:\")\n",
    "for word, count in word_counts.most_common(10):\n",
    "    print(f\"{word}: {count}\")"
   ]
  }
 ],
 "metadata": {
  "kernelspec": {
   "display_name": "env_1",
   "language": "python",
   "name": "python3"
  },
  "language_info": {
   "codemirror_mode": {
    "name": "ipython",
    "version": 3
   },
   "file_extension": ".py",
   "mimetype": "text/x-python",
   "name": "python",
   "nbconvert_exporter": "python",
   "pygments_lexer": "ipython3",
   "version": "3.12.5"
  }
 },
 "nbformat": 4,
 "nbformat_minor": 2
}
